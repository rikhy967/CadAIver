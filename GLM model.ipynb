{
 "cells": [
  {
   "cell_type": "code",
   "execution_count": 11,
   "id": "2834cb06",
   "metadata": {},
   "outputs": [],
   "source": [
    "import pandas as pd\n",
    "import numpy as np\n",
    "\n",
    "import statsmodels.formula.api as smf\n",
    "from statsmodels.iolib.smpickle import load_pickle\n"
   ]
  },
  {
   "cell_type": "code",
   "execution_count": 8,
   "id": "89a05799",
   "metadata": {},
   "outputs": [],
   "source": [
    "best_model = pd.read_excel('BIC_models.xlsx',index_col=0)"
   ]
  },
  {
   "cell_type": "code",
   "execution_count": 37,
   "id": "fc468da7",
   "metadata": {},
   "outputs": [],
   "source": [
    "radiomics_feature = 'original_ngtdm_Complexity_Complete'\n",
    "\n",
    "link_function = best_model.loc[radiomics_feature,'Best_model']\n",
    "\n",
    "if link_function == 'Best Lin':\n",
    "    \n",
    "    glm_model  = load_pickle('GLM_Models/'+radiomics_feature+'_GLM_lin_results.pickle')\n",
    "    \n",
    "elif link_function == 'Best Gamma':\n",
    "    \n",
    "    glm_model  = load_pickle('GLM_Models/'+radiomics_feature+'_GLM_gamma_results.pickle')\n",
    "    \n",
    "\n",
    "\n"
   ]
  },
  {
   "cell_type": "code",
   "execution_count": 38,
   "id": "a3eee8b4",
   "metadata": {},
   "outputs": [
    {
     "data": {
      "text/plain": [
       "0    94775.556617\n",
       "dtype: float64"
      ]
     },
     "execution_count": 38,
     "metadata": {},
     "output_type": "execute_result"
    }
   ],
   "source": [
    "# Example prediction\n",
    "\n",
    "kernel = 'STANDARD'\n",
    "machine = 'RevEVO'\n",
    "fov = 500\n",
    "current = 300\n",
    "volt = 80\n",
    "\n",
    "\n",
    "glm_model.predict({'MODE':kernel,\n",
    "                  'MACHINE':machine,\n",
    "                  'FOV':fov,\n",
    "                  'CURR':current,\n",
    "                  'VOLT':volt})\n",
    "\n",
    "\n"
   ]
  },
  {
   "cell_type": "code",
   "execution_count": null,
   "id": "7aaf61dd",
   "metadata": {},
   "outputs": [],
   "source": []
  }
 ],
 "metadata": {
  "kernelspec": {
   "display_name": "Python 3 (ipykernel)",
   "language": "python",
   "name": "python3"
  },
  "language_info": {
   "codemirror_mode": {
    "name": "ipython",
    "version": 3
   },
   "file_extension": ".py",
   "mimetype": "text/x-python",
   "name": "python",
   "nbconvert_exporter": "python",
   "pygments_lexer": "ipython3",
   "version": "3.8.13"
  }
 },
 "nbformat": 4,
 "nbformat_minor": 5
}
